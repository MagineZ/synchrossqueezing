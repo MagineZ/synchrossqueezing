{
 "cells": [
  {
   "cell_type": "markdown",
   "metadata": {},
   "source": [
    "# Time Frequency Analysis"
   ]
  },
  {
   "cell_type": "markdown",
   "metadata": {},
   "source": [
    "## Import Packages"
   ]
  },
  {
   "cell_type": "code",
   "execution_count": 1,
   "metadata": {
    "collapsed": false
   },
   "outputs": [],
   "source": [
    "import numpy as np\n",
    "from matplotlib.backends.backend_qt5agg import FigureCanvasQTAgg as FigureCanvas\n",
    "from matplotlib.backends.backend_qt5agg import NavigationToolbar2QT as NavigationToolbar\n",
    "import matplotlib.pyplot as plt\n",
    "from functions import *\n",
    "from tkinter.filedialog import askopenfilename\n",
    "from bokeh.plotting import figure, output_file, show\n",
    "from bokeh.io import output_notebook"
   ]
  },
  {
   "cell_type": "markdown",
   "metadata": {},
   "source": [
    "## Load Data"
   ]
  },
  {
   "cell_type": "code",
   "execution_count": 8,
   "metadata": {
    "collapsed": false
   },
   "outputs": [
    {
     "name": "stdout",
     "output_type": "stream",
     "text": [
      "[ 3.76054848  2.38256125  1.70723145 ...,  3.70616855  1.6756054\n",
      " -2.20451529]\n"
     ]
    }
   ],
   "source": [
    "filename = askopenfilename()\n",
    "data = np.genfromtxt(filename, delimiter=',')\n",
    "x = data"
   ]
  },
  {
   "cell_type": "code",
   "execution_count": 13,
   "metadata": {
    "collapsed": false
   },
   "outputs": [],
   "source": [
    "t = np.arange(0,len(x))"
   ]
  },
  {
   "cell_type": "markdown",
   "metadata": {},
   "source": [
    "## Plot Raw Signal"
   ]
  },
  {
   "cell_type": "code",
   "execution_count": 14,
   "metadata": {
    "collapsed": false
   },
   "outputs": [
    {
     "data": {
      "text/html": [
       "\n",
       "    <div class=\"bk-root\">\n",
       "        <a href=\"http://bokeh.pydata.org\" target=\"_blank\" class=\"bk-logo bk-logo-small bk-logo-notebook\"></a>\n",
       "        <span id=\"6d95faaf-c97e-44ae-bbbf-143aaca8b7e9\">Loading BokehJS ...</span>\n",
       "    </div>"
      ]
     },
     "metadata": {},
     "output_type": "display_data"
    },
    {
     "data": {
      "application/javascript": [
       "\n",
       "(function(global) {\n",
       "  function now() {\n",
       "    return new Date();\n",
       "  }\n",
       "\n",
       "  var force = true;\n",
       "\n",
       "  if (typeof (window._bokeh_onload_callbacks) === \"undefined\" || force === true) {\n",
       "    window._bokeh_onload_callbacks = [];\n",
       "    window._bokeh_is_loading = undefined;\n",
       "  }\n",
       "\n",
       "\n",
       "  \n",
       "  if (typeof (window._bokeh_timeout) === \"undefined\" || force === true) {\n",
       "    window._bokeh_timeout = Date.now() + 5000;\n",
       "    window._bokeh_failed_load = false;\n",
       "  }\n",
       "\n",
       "  var NB_LOAD_WARNING = {'data': {'text/html':\n",
       "     \"<div style='background-color: #fdd'>\\n\"+\n",
       "     \"<p>\\n\"+\n",
       "     \"BokehJS does not appear to have successfully loaded. If loading BokehJS from CDN, this \\n\"+\n",
       "     \"may be due to a slow or bad network connection. Possible fixes:\\n\"+\n",
       "     \"</p>\\n\"+\n",
       "     \"<ul>\\n\"+\n",
       "     \"<li>re-rerun `output_notebook()` to attempt to load from CDN again, or</li>\\n\"+\n",
       "     \"<li>use INLINE resources instead, as so:</li>\\n\"+\n",
       "     \"</ul>\\n\"+\n",
       "     \"<code>\\n\"+\n",
       "     \"from bokeh.resources import INLINE\\n\"+\n",
       "     \"output_notebook(resources=INLINE)\\n\"+\n",
       "     \"</code>\\n\"+\n",
       "     \"</div>\"}};\n",
       "\n",
       "  function display_loaded() {\n",
       "    if (window.Bokeh !== undefined) {\n",
       "      document.getElementById(\"6d95faaf-c97e-44ae-bbbf-143aaca8b7e9\").textContent = \"BokehJS successfully loaded.\";\n",
       "    } else if (Date.now() < window._bokeh_timeout) {\n",
       "      setTimeout(display_loaded, 100)\n",
       "    }\n",
       "  }\n",
       "\n",
       "  function run_callbacks() {\n",
       "    window._bokeh_onload_callbacks.forEach(function(callback) { callback() });\n",
       "    delete window._bokeh_onload_callbacks\n",
       "    console.info(\"Bokeh: all callbacks have finished\");\n",
       "  }\n",
       "\n",
       "  function load_libs(js_urls, callback) {\n",
       "    window._bokeh_onload_callbacks.push(callback);\n",
       "    if (window._bokeh_is_loading > 0) {\n",
       "      console.log(\"Bokeh: BokehJS is being loaded, scheduling callback at\", now());\n",
       "      return null;\n",
       "    }\n",
       "    if (js_urls == null || js_urls.length === 0) {\n",
       "      run_callbacks();\n",
       "      return null;\n",
       "    }\n",
       "    console.log(\"Bokeh: BokehJS not loaded, scheduling load and callback at\", now());\n",
       "    window._bokeh_is_loading = js_urls.length;\n",
       "    for (var i = 0; i < js_urls.length; i++) {\n",
       "      var url = js_urls[i];\n",
       "      var s = document.createElement('script');\n",
       "      s.src = url;\n",
       "      s.async = false;\n",
       "      s.onreadystatechange = s.onload = function() {\n",
       "        window._bokeh_is_loading--;\n",
       "        if (window._bokeh_is_loading === 0) {\n",
       "          console.log(\"Bokeh: all BokehJS libraries loaded\");\n",
       "          run_callbacks()\n",
       "        }\n",
       "      };\n",
       "      s.onerror = function() {\n",
       "        console.warn(\"failed to load library \" + url);\n",
       "      };\n",
       "      console.log(\"Bokeh: injecting script tag for BokehJS library: \", url);\n",
       "      document.getElementsByTagName(\"head\")[0].appendChild(s);\n",
       "    }\n",
       "  };var element = document.getElementById(\"6d95faaf-c97e-44ae-bbbf-143aaca8b7e9\");\n",
       "  if (element == null) {\n",
       "    console.log(\"Bokeh: ERROR: autoload.js configured with elementid '6d95faaf-c97e-44ae-bbbf-143aaca8b7e9' but no matching script tag was found. \")\n",
       "    return false;\n",
       "  }\n",
       "\n",
       "  var js_urls = [\"https://cdn.pydata.org/bokeh/release/bokeh-0.12.4.min.js\", \"https://cdn.pydata.org/bokeh/release/bokeh-widgets-0.12.4.min.js\"];\n",
       "\n",
       "  var inline_js = [\n",
       "    function(Bokeh) {\n",
       "      Bokeh.set_log_level(\"info\");\n",
       "    },\n",
       "    \n",
       "    function(Bokeh) {\n",
       "      \n",
       "      document.getElementById(\"6d95faaf-c97e-44ae-bbbf-143aaca8b7e9\").textContent = \"BokehJS is loading...\";\n",
       "    },\n",
       "    function(Bokeh) {\n",
       "      console.log(\"Bokeh: injecting CSS: https://cdn.pydata.org/bokeh/release/bokeh-0.12.4.min.css\");\n",
       "      Bokeh.embed.inject_css(\"https://cdn.pydata.org/bokeh/release/bokeh-0.12.4.min.css\");\n",
       "      console.log(\"Bokeh: injecting CSS: https://cdn.pydata.org/bokeh/release/bokeh-widgets-0.12.4.min.css\");\n",
       "      Bokeh.embed.inject_css(\"https://cdn.pydata.org/bokeh/release/bokeh-widgets-0.12.4.min.css\");\n",
       "    }\n",
       "  ];\n",
       "\n",
       "  function run_inline_js() {\n",
       "    \n",
       "    if ((window.Bokeh !== undefined) || (force === true)) {\n",
       "      for (var i = 0; i < inline_js.length; i++) {\n",
       "        inline_js[i](window.Bokeh);\n",
       "      }if (force === true) {\n",
       "        display_loaded();\n",
       "      }} else if (Date.now() < window._bokeh_timeout) {\n",
       "      setTimeout(run_inline_js, 100);\n",
       "    } else if (!window._bokeh_failed_load) {\n",
       "      console.log(\"Bokeh: BokehJS failed to load within specified timeout.\");\n",
       "      window._bokeh_failed_load = true;\n",
       "    } else if (force !== true) {\n",
       "      var cell = $(document.getElementById(\"6d95faaf-c97e-44ae-bbbf-143aaca8b7e9\")).parents('.cell').data().cell;\n",
       "      cell.output_area.append_execute_result(NB_LOAD_WARNING)\n",
       "    }\n",
       "\n",
       "  }\n",
       "\n",
       "  if (window._bokeh_is_loading === 0) {\n",
       "    console.log(\"Bokeh: BokehJS loaded, going straight to plotting\");\n",
       "    run_inline_js();\n",
       "  } else {\n",
       "    load_libs(js_urls, function() {\n",
       "      console.log(\"Bokeh: BokehJS plotting callback run at\", now());\n",
       "      run_inline_js();\n",
       "    });\n",
       "  }\n",
       "}(this));"
      ]
     },
     "metadata": {},
     "output_type": "display_data"
    },
    {
     "data": {
      "text/html": [
       "\n",
       "\n",
       "    <div class=\"bk-root\">\n",
       "        <div class=\"bk-plotdiv\" id=\"fa0dda71-762d-43a5-85b6-1cb9a435b519\"></div>\n",
       "    </div>\n",
       "<script type=\"text/javascript\">\n",
       "  \n",
       "  (function(global) {\n",
       "    function now() {\n",
       "      return new Date();\n",
       "    }\n",
       "  \n",
       "    var force = false;\n",
       "  \n",
       "    if (typeof (window._bokeh_onload_callbacks) === \"undefined\" || force === true) {\n",
       "      window._bokeh_onload_callbacks = [];\n",
       "      window._bokeh_is_loading = undefined;\n",
       "    }\n",
       "  \n",
       "  \n",
       "    \n",
       "    if (typeof (window._bokeh_timeout) === \"undefined\" || force === true) {\n",
       "      window._bokeh_timeout = Date.now() + 0;\n",
       "      window._bokeh_failed_load = false;\n",
       "    }\n",
       "  \n",
       "    var NB_LOAD_WARNING = {'data': {'text/html':\n",
       "       \"<div style='background-color: #fdd'>\\n\"+\n",
       "       \"<p>\\n\"+\n",
       "       \"BokehJS does not appear to have successfully loaded. If loading BokehJS from CDN, this \\n\"+\n",
       "       \"may be due to a slow or bad network connection. Possible fixes:\\n\"+\n",
       "       \"</p>\\n\"+\n",
       "       \"<ul>\\n\"+\n",
       "       \"<li>re-rerun `output_notebook()` to attempt to load from CDN again, or</li>\\n\"+\n",
       "       \"<li>use INLINE resources instead, as so:</li>\\n\"+\n",
       "       \"</ul>\\n\"+\n",
       "       \"<code>\\n\"+\n",
       "       \"from bokeh.resources import INLINE\\n\"+\n",
       "       \"output_notebook(resources=INLINE)\\n\"+\n",
       "       \"</code>\\n\"+\n",
       "       \"</div>\"}};\n",
       "  \n",
       "    function display_loaded() {\n",
       "      if (window.Bokeh !== undefined) {\n",
       "        document.getElementById(\"fa0dda71-762d-43a5-85b6-1cb9a435b519\").textContent = \"BokehJS successfully loaded.\";\n",
       "      } else if (Date.now() < window._bokeh_timeout) {\n",
       "        setTimeout(display_loaded, 100)\n",
       "      }\n",
       "    }\n",
       "  \n",
       "    function run_callbacks() {\n",
       "      window._bokeh_onload_callbacks.forEach(function(callback) { callback() });\n",
       "      delete window._bokeh_onload_callbacks\n",
       "      console.info(\"Bokeh: all callbacks have finished\");\n",
       "    }\n",
       "  \n",
       "    function load_libs(js_urls, callback) {\n",
       "      window._bokeh_onload_callbacks.push(callback);\n",
       "      if (window._bokeh_is_loading > 0) {\n",
       "        console.log(\"Bokeh: BokehJS is being loaded, scheduling callback at\", now());\n",
       "        return null;\n",
       "      }\n",
       "      if (js_urls == null || js_urls.length === 0) {\n",
       "        run_callbacks();\n",
       "        return null;\n",
       "      }\n",
       "      console.log(\"Bokeh: BokehJS not loaded, scheduling load and callback at\", now());\n",
       "      window._bokeh_is_loading = js_urls.length;\n",
       "      for (var i = 0; i < js_urls.length; i++) {\n",
       "        var url = js_urls[i];\n",
       "        var s = document.createElement('script');\n",
       "        s.src = url;\n",
       "        s.async = false;\n",
       "        s.onreadystatechange = s.onload = function() {\n",
       "          window._bokeh_is_loading--;\n",
       "          if (window._bokeh_is_loading === 0) {\n",
       "            console.log(\"Bokeh: all BokehJS libraries loaded\");\n",
       "            run_callbacks()\n",
       "          }\n",
       "        };\n",
       "        s.onerror = function() {\n",
       "          console.warn(\"failed to load library \" + url);\n",
       "        };\n",
       "        console.log(\"Bokeh: injecting script tag for BokehJS library: \", url);\n",
       "        document.getElementsByTagName(\"head\")[0].appendChild(s);\n",
       "      }\n",
       "    };var element = document.getElementById(\"fa0dda71-762d-43a5-85b6-1cb9a435b519\");\n",
       "    if (element == null) {\n",
       "      console.log(\"Bokeh: ERROR: autoload.js configured with elementid 'fa0dda71-762d-43a5-85b6-1cb9a435b519' but no matching script tag was found. \")\n",
       "      return false;\n",
       "    }\n",
       "  \n",
       "    var js_urls = [];\n",
       "  \n",
       "    var inline_js = [\n",
       "      function(Bokeh) {\n",
       "        (function() {\n",
       "          var fn = function() {\n",
       "            var docs_json = {\"98d5e023-aaae-429b-97d9-381db9a155a8\":{\"roots\":{\"references\":[{\"attributes\":{\"data_source\":{\"id\":\"d42e7dcc-43b2-40b3-8d31-9dbf05a1d909\",\"type\":\"ColumnDataSource\"},\"glyph\":{\"id\":\"0f8df486-8c79-4d5f-95d9-4a8d25ab15d0\",\"type\":\"Line\"},\"hover_glyph\":null,\"nonselection_glyph\":{\"id\":\"ee9b17da-9fbf-4661-9dbd-877faf23c3a1\",\"type\":\"Line\"},\"selection_glyph\":null},\"id\":\"22b48120-ba2e-483b-8264-b46273956f5f\",\"type\":\"GlyphRenderer\"},{\"attributes\":{\"callback\":null,\"column_names\":[\"x\",\"y\"],\"data\":{\"x\":{\"__ndarray__\":\"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\",\"dtype\":\"int32\",\"shape\":[1600]},\"y\":{\"__ndarray__\":\"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\",\"dtype\":\"float64\",\"shape\":[1600]}}},\"id\":\"d42e7dcc-43b2-40b3-8d31-9dbf05a1d909\",\"type\":\"ColumnDataSource\"},{\"attributes\":{\"bottom_units\":\"screen\",\"fill_alpha\":{\"value\":0.5},\"fill_color\":{\"value\":\"lightgrey\"},\"left_units\":\"screen\",\"level\":\"overlay\",\"line_alpha\":{\"value\":1.0},\"line_color\":{\"value\":\"black\"},\"line_dash\":[4,4],\"line_width\":{\"value\":2},\"plot\":null,\"render_mode\":\"css\",\"right_units\":\"screen\",\"top_units\":\"screen\"},\"id\":\"3495268d-e405-4a69-8c80-14a3450d8ff9\",\"type\":\"BoxAnnotation\"},{\"attributes\":{\"plot\":null,\"text\":\"Original Signal\"},\"id\":\"edf26fa4-b8aa-4387-8c50-caa041f9084d\",\"type\":\"Title\"},{\"attributes\":{\"below\":[{\"id\":\"dea6749f-00d8-4907-bb1b-d9f2a6d9f2f6\",\"type\":\"LinearAxis\"}],\"left\":[{\"id\":\"7b9db66c-e312-46c3-a71c-6050b673d96e\",\"type\":\"LinearAxis\"}],\"renderers\":[{\"id\":\"dea6749f-00d8-4907-bb1b-d9f2a6d9f2f6\",\"type\":\"LinearAxis\"},{\"id\":\"4be1c5b3-acd9-4cd1-9984-2e6c39d4d9eb\",\"type\":\"Grid\"},{\"id\":\"7b9db66c-e312-46c3-a71c-6050b673d96e\",\"type\":\"LinearAxis\"},{\"id\":\"2b09b328-338c-4429-b8ca-de1d7429bd9c\",\"type\":\"Grid\"},{\"id\":\"3495268d-e405-4a69-8c80-14a3450d8ff9\",\"type\":\"BoxAnnotation\"},{\"id\":\"22b48120-ba2e-483b-8264-b46273956f5f\",\"type\":\"GlyphRenderer\"}],\"title\":{\"id\":\"edf26fa4-b8aa-4387-8c50-caa041f9084d\",\"type\":\"Title\"},\"tool_events\":{\"id\":\"5c6ddf8a-c1a9-4d69-81c7-f3493e3bef8a\",\"type\":\"ToolEvents\"},\"toolbar\":{\"id\":\"15788325-cb5e-4b98-a8f7-54686628449b\",\"type\":\"Toolbar\"},\"x_range\":{\"id\":\"b75a7a96-8e0a-474b-9287-0755e967c07a\",\"type\":\"DataRange1d\"},\"y_range\":{\"id\":\"c44c1a1b-a7e2-4c5f-9180-48b780ea5d92\",\"type\":\"DataRange1d\"}},\"id\":\"6f207ae0-ed31-42ec-a1bd-47567bf9ba02\",\"subtype\":\"Figure\",\"type\":\"Plot\"},{\"attributes\":{},\"id\":\"16aa9c6e-5b10-47ab-8a41-65c05adc5b98\",\"type\":\"BasicTicker\"},{\"attributes\":{\"plot\":{\"id\":\"6f207ae0-ed31-42ec-a1bd-47567bf9ba02\",\"subtype\":\"Figure\",\"type\":\"Plot\"}},\"id\":\"2a24a459-3a43-43fa-b5f3-bda4c48e570c\",\"type\":\"ResetTool\"},{\"attributes\":{\"formatter\":{\"id\":\"94a0cc02-925a-44ba-bbe5-047506c051a3\",\"type\":\"BasicTickFormatter\"},\"plot\":{\"id\":\"6f207ae0-ed31-42ec-a1bd-47567bf9ba02\",\"subtype\":\"Figure\",\"type\":\"Plot\"},\"ticker\":{\"id\":\"16aa9c6e-5b10-47ab-8a41-65c05adc5b98\",\"type\":\"BasicTicker\"}},\"id\":\"7b9db66c-e312-46c3-a71c-6050b673d96e\",\"type\":\"LinearAxis\"},{\"attributes\":{\"line_alpha\":{\"value\":0.1},\"line_color\":{\"value\":\"#1f77b4\"},\"x\":{\"field\":\"x\"},\"y\":{\"field\":\"y\"}},\"id\":\"ee9b17da-9fbf-4661-9dbd-877faf23c3a1\",\"type\":\"Line\"},{\"attributes\":{\"line_color\":{\"value\":\"#1f77b4\"},\"x\":{\"field\":\"x\"},\"y\":{\"field\":\"y\"}},\"id\":\"0f8df486-8c79-4d5f-95d9-4a8d25ab15d0\",\"type\":\"Line\"},{\"attributes\":{\"active_drag\":\"auto\",\"active_scroll\":\"auto\",\"active_tap\":\"auto\",\"tools\":[{\"id\":\"ed460d55-a6bc-43b1-aac0-2ef4ac2dad09\",\"type\":\"PanTool\"},{\"id\":\"bee90a0f-0e94-4489-8bb6-cb05477c203d\",\"type\":\"BoxZoomTool\"},{\"id\":\"2a24a459-3a43-43fa-b5f3-bda4c48e570c\",\"type\":\"ResetTool\"},{\"id\":\"c2d3ea0c-e9db-413c-86ce-ceb5835bfee6\",\"type\":\"SaveTool\"}]},\"id\":\"15788325-cb5e-4b98-a8f7-54686628449b\",\"type\":\"Toolbar\"},{\"attributes\":{\"plot\":{\"id\":\"6f207ae0-ed31-42ec-a1bd-47567bf9ba02\",\"subtype\":\"Figure\",\"type\":\"Plot\"}},\"id\":\"c2d3ea0c-e9db-413c-86ce-ceb5835bfee6\",\"type\":\"SaveTool\"},{\"attributes\":{\"dimension\":1,\"plot\":{\"id\":\"6f207ae0-ed31-42ec-a1bd-47567bf9ba02\",\"subtype\":\"Figure\",\"type\":\"Plot\"},\"ticker\":{\"id\":\"16aa9c6e-5b10-47ab-8a41-65c05adc5b98\",\"type\":\"BasicTicker\"}},\"id\":\"2b09b328-338c-4429-b8ca-de1d7429bd9c\",\"type\":\"Grid\"},{\"attributes\":{\"overlay\":{\"id\":\"3495268d-e405-4a69-8c80-14a3450d8ff9\",\"type\":\"BoxAnnotation\"},\"plot\":{\"id\":\"6f207ae0-ed31-42ec-a1bd-47567bf9ba02\",\"subtype\":\"Figure\",\"type\":\"Plot\"}},\"id\":\"bee90a0f-0e94-4489-8bb6-cb05477c203d\",\"type\":\"BoxZoomTool\"},{\"attributes\":{},\"id\":\"5c6ddf8a-c1a9-4d69-81c7-f3493e3bef8a\",\"type\":\"ToolEvents\"},{\"attributes\":{},\"id\":\"7beb0d41-83f2-4c7a-b875-5273f9fa0111\",\"type\":\"BasicTickFormatter\"},{\"attributes\":{\"plot\":{\"id\":\"6f207ae0-ed31-42ec-a1bd-47567bf9ba02\",\"subtype\":\"Figure\",\"type\":\"Plot\"},\"ticker\":{\"id\":\"7797de76-f5e7-4b71-aa51-5bb0d4db85ed\",\"type\":\"BasicTicker\"}},\"id\":\"4be1c5b3-acd9-4cd1-9984-2e6c39d4d9eb\",\"type\":\"Grid\"},{\"attributes\":{\"callback\":null},\"id\":\"b75a7a96-8e0a-474b-9287-0755e967c07a\",\"type\":\"DataRange1d\"},{\"attributes\":{\"axis_label\":\"time\",\"formatter\":{\"id\":\"7beb0d41-83f2-4c7a-b875-5273f9fa0111\",\"type\":\"BasicTickFormatter\"},\"plot\":{\"id\":\"6f207ae0-ed31-42ec-a1bd-47567bf9ba02\",\"subtype\":\"Figure\",\"type\":\"Plot\"},\"ticker\":{\"id\":\"7797de76-f5e7-4b71-aa51-5bb0d4db85ed\",\"type\":\"BasicTicker\"}},\"id\":\"dea6749f-00d8-4907-bb1b-d9f2a6d9f2f6\",\"type\":\"LinearAxis\"},{\"attributes\":{},\"id\":\"7797de76-f5e7-4b71-aa51-5bb0d4db85ed\",\"type\":\"BasicTicker\"},{\"attributes\":{},\"id\":\"94a0cc02-925a-44ba-bbe5-047506c051a3\",\"type\":\"BasicTickFormatter\"},{\"attributes\":{\"callback\":null},\"id\":\"c44c1a1b-a7e2-4c5f-9180-48b780ea5d92\",\"type\":\"DataRange1d\"},{\"attributes\":{\"plot\":{\"id\":\"6f207ae0-ed31-42ec-a1bd-47567bf9ba02\",\"subtype\":\"Figure\",\"type\":\"Plot\"}},\"id\":\"ed460d55-a6bc-43b1-aac0-2ef4ac2dad09\",\"type\":\"PanTool\"}],\"root_ids\":[\"6f207ae0-ed31-42ec-a1bd-47567bf9ba02\"]},\"title\":\"Bokeh Application\",\"version\":\"0.12.4\"}};\n",
       "            var render_items = [{\"docid\":\"98d5e023-aaae-429b-97d9-381db9a155a8\",\"elementid\":\"fa0dda71-762d-43a5-85b6-1cb9a435b519\",\"modelid\":\"6f207ae0-ed31-42ec-a1bd-47567bf9ba02\"}];\n",
       "            \n",
       "            Bokeh.embed.embed_items(docs_json, render_items);\n",
       "          };\n",
       "          if (document.readyState != \"loading\") fn();\n",
       "          else document.addEventListener(\"DOMContentLoaded\", fn);\n",
       "        })();\n",
       "      },\n",
       "      function(Bokeh) {\n",
       "      }\n",
       "    ];\n",
       "  \n",
       "    function run_inline_js() {\n",
       "      \n",
       "      if ((window.Bokeh !== undefined) || (force === true)) {\n",
       "        for (var i = 0; i < inline_js.length; i++) {\n",
       "          inline_js[i](window.Bokeh);\n",
       "        }if (force === true) {\n",
       "          display_loaded();\n",
       "        }} else if (Date.now() < window._bokeh_timeout) {\n",
       "        setTimeout(run_inline_js, 100);\n",
       "      } else if (!window._bokeh_failed_load) {\n",
       "        console.log(\"Bokeh: BokehJS failed to load within specified timeout.\");\n",
       "        window._bokeh_failed_load = true;\n",
       "      } else if (force !== true) {\n",
       "        var cell = $(document.getElementById(\"fa0dda71-762d-43a5-85b6-1cb9a435b519\")).parents('.cell').data().cell;\n",
       "        cell.output_area.append_execute_result(NB_LOAD_WARNING)\n",
       "      }\n",
       "  \n",
       "    }\n",
       "  \n",
       "    if (window._bokeh_is_loading === 0) {\n",
       "      console.log(\"Bokeh: BokehJS loaded, going straight to plotting\");\n",
       "      run_inline_js();\n",
       "    } else {\n",
       "      load_libs(js_urls, function() {\n",
       "        console.log(\"Bokeh: BokehJS plotting callback run at\", now());\n",
       "        run_inline_js();\n",
       "      });\n",
       "    }\n",
       "  }(this));\n",
       "</script>"
      ]
     },
     "metadata": {},
     "output_type": "display_data"
    }
   ],
   "source": [
    "output_notebook()\n",
    "# create a new plot\n",
    "p = figure(\n",
    "   tools=\"pan,box_zoom,reset,save\",title=\"Original Signal\",\n",
    "   x_axis_label='time')\n",
    "\n",
    "# add some renderers\n",
    "p.line(t, x)\n",
    "\n",
    "# show the results\n",
    "show(p)\n"
   ]
  },
  {
   "cell_type": "code",
   "execution_count": 18,
   "metadata": {
    "collapsed": false
   },
   "outputs": [
    {
     "name": "stdout",
     "output_type": "stream",
     "text": [
      "Run ordinary STFT-SST (Smooth =  0 , Hemi =  0 )\n",
      "\n"
     ]
    }
   ],
   "source": [
    "z,y,_,_,_ = ConceFT_sqSTFT_C(x, 0, 0.5, 0.001, 1, 377, 2, 10, 0, 0, 0,0)"
   ]
  },
  {
   "cell_type": "code",
   "execution_count": 54,
   "metadata": {
    "collapsed": false,
    "scrolled": true
   },
   "outputs": [
    {
     "ename": "AttributeError",
     "evalue": "'Document' object has no attribute 'references'",
     "output_type": "error",
     "traceback": [
      "\u001b[0;31m---------------------------------------------------------------------------\u001b[0m",
      "\u001b[0;31mAttributeError\u001b[0m                            Traceback (most recent call last)",
      "\u001b[0;32m<ipython-input-54-42512fe58563>\u001b[0m in \u001b[0;36m<module>\u001b[0;34m()\u001b[0m\n\u001b[1;32m     24\u001b[0m \u001b[1;33m\u001b[0m\u001b[0m\n\u001b[1;32m     25\u001b[0m \u001b[0minputs\u001b[0m \u001b[1;33m=\u001b[0m \u001b[0mwidgetbox\u001b[0m\u001b[1;33m(\u001b[0m\u001b[0mcolor_select\u001b[0m\u001b[1;33m)\u001b[0m\u001b[1;33m\u001b[0m\u001b[0m\n\u001b[0;32m---> 26\u001b[0;31m \u001b[0mcurdoc\u001b[0m\u001b[1;33m(\u001b[0m\u001b[1;33m)\u001b[0m\u001b[1;33m.\u001b[0m\u001b[0madd_root\u001b[0m\u001b[1;33m(\u001b[0m\u001b[0mrow\u001b[0m\u001b[1;33m(\u001b[0m\u001b[0minputs\u001b[0m\u001b[1;33m,\u001b[0m \u001b[0mplot\u001b[0m\u001b[1;33m,\u001b[0m \u001b[0mwidth\u001b[0m\u001b[1;33m=\u001b[0m\u001b[1;36m800\u001b[0m\u001b[1;33m)\u001b[0m\u001b[1;33m)\u001b[0m\u001b[1;33m\u001b[0m\u001b[0m\n\u001b[0m",
      "\u001b[0;32mC:\\Users\\NTU_Math\\Anaconda3\\lib\\site-packages\\bokeh\\document.py\u001b[0m in \u001b[0;36madd_root\u001b[0;34m(self, model, setter)\u001b[0m\n\u001b[1;32m    526\u001b[0m             \u001b[0mself\u001b[0m\u001b[1;33m.\u001b[0m\u001b[0m_roots\u001b[0m\u001b[1;33m.\u001b[0m\u001b[0mappend\u001b[0m\u001b[1;33m(\u001b[0m\u001b[0mmodel\u001b[0m\u001b[1;33m)\u001b[0m\u001b[1;33m\u001b[0m\u001b[0m\n\u001b[1;32m    527\u001b[0m         \u001b[1;32mfinally\u001b[0m\u001b[1;33m:\u001b[0m\u001b[1;33m\u001b[0m\u001b[0m\n\u001b[0;32m--> 528\u001b[0;31m             \u001b[0mself\u001b[0m\u001b[1;33m.\u001b[0m\u001b[0m_pop_all_models_freeze\u001b[0m\u001b[1;33m(\u001b[0m\u001b[1;33m)\u001b[0m\u001b[1;33m\u001b[0m\u001b[0m\n\u001b[0m\u001b[1;32m    529\u001b[0m         \u001b[0mself\u001b[0m\u001b[1;33m.\u001b[0m\u001b[0m_trigger_on_change\u001b[0m\u001b[1;33m(\u001b[0m\u001b[0mRootAddedEvent\u001b[0m\u001b[1;33m(\u001b[0m\u001b[0mself\u001b[0m\u001b[1;33m,\u001b[0m \u001b[0mmodel\u001b[0m\u001b[1;33m,\u001b[0m \u001b[0msetter\u001b[0m\u001b[1;33m)\u001b[0m\u001b[1;33m)\u001b[0m\u001b[1;33m\u001b[0m\u001b[0m\n\u001b[1;32m    530\u001b[0m \u001b[1;33m\u001b[0m\u001b[0m\n",
      "\u001b[0;32mC:\\Users\\NTU_Math\\Anaconda3\\lib\\site-packages\\bokeh\\document.py\u001b[0m in \u001b[0;36m_pop_all_models_freeze\u001b[0;34m(self)\u001b[0m\n\u001b[1;32m    383\u001b[0m         \u001b[0mself\u001b[0m\u001b[1;33m.\u001b[0m\u001b[0m_all_models_freeze_count\u001b[0m \u001b[1;33m-=\u001b[0m \u001b[1;36m1\u001b[0m\u001b[1;33m\u001b[0m\u001b[0m\n\u001b[1;32m    384\u001b[0m         \u001b[1;32mif\u001b[0m \u001b[0mself\u001b[0m\u001b[1;33m.\u001b[0m\u001b[0m_all_models_freeze_count\u001b[0m \u001b[1;33m==\u001b[0m \u001b[1;36m0\u001b[0m\u001b[1;33m:\u001b[0m\u001b[1;33m\u001b[0m\u001b[0m\n\u001b[0;32m--> 385\u001b[0;31m             \u001b[0mself\u001b[0m\u001b[1;33m.\u001b[0m\u001b[0m_recompute_all_models\u001b[0m\u001b[1;33m(\u001b[0m\u001b[1;33m)\u001b[0m\u001b[1;33m\u001b[0m\u001b[0m\n\u001b[0m\u001b[1;32m    386\u001b[0m \u001b[1;33m\u001b[0m\u001b[0m\n\u001b[1;32m    387\u001b[0m     \u001b[1;32mdef\u001b[0m \u001b[0m_invalidate_all_models\u001b[0m\u001b[1;33m(\u001b[0m\u001b[0mself\u001b[0m\u001b[1;33m)\u001b[0m\u001b[1;33m:\u001b[0m\u001b[1;33m\u001b[0m\u001b[0m\n",
      "\u001b[0;32mC:\\Users\\NTU_Math\\Anaconda3\\lib\\site-packages\\bokeh\\document.py\u001b[0m in \u001b[0;36m_recompute_all_models\u001b[0;34m(self)\u001b[0m\n\u001b[1;32m    393\u001b[0m         \u001b[0mnew_all_models_set\u001b[0m \u001b[1;33m=\u001b[0m \u001b[0mset\u001b[0m\u001b[1;33m(\u001b[0m\u001b[1;33m)\u001b[0m\u001b[1;33m\u001b[0m\u001b[0m\n\u001b[1;32m    394\u001b[0m         \u001b[1;32mfor\u001b[0m \u001b[0mr\u001b[0m \u001b[1;32min\u001b[0m \u001b[0mself\u001b[0m\u001b[1;33m.\u001b[0m\u001b[0mroots\u001b[0m\u001b[1;33m:\u001b[0m\u001b[1;33m\u001b[0m\u001b[0m\n\u001b[0;32m--> 395\u001b[0;31m             \u001b[0mnew_all_models_set\u001b[0m \u001b[1;33m=\u001b[0m \u001b[0mnew_all_models_set\u001b[0m\u001b[1;33m.\u001b[0m\u001b[0munion\u001b[0m\u001b[1;33m(\u001b[0m\u001b[0mr\u001b[0m\u001b[1;33m.\u001b[0m\u001b[0mreferences\u001b[0m\u001b[1;33m(\u001b[0m\u001b[1;33m)\u001b[0m\u001b[1;33m)\u001b[0m\u001b[1;33m\u001b[0m\u001b[0m\n\u001b[0m\u001b[1;32m    396\u001b[0m         \u001b[0mold_all_models_set\u001b[0m \u001b[1;33m=\u001b[0m \u001b[0mset\u001b[0m\u001b[1;33m(\u001b[0m\u001b[0mself\u001b[0m\u001b[1;33m.\u001b[0m\u001b[0m_all_models\u001b[0m\u001b[1;33m.\u001b[0m\u001b[0mvalues\u001b[0m\u001b[1;33m(\u001b[0m\u001b[1;33m)\u001b[0m\u001b[1;33m)\u001b[0m\u001b[1;33m\u001b[0m\u001b[0m\n\u001b[1;32m    397\u001b[0m         \u001b[0mto_detach\u001b[0m \u001b[1;33m=\u001b[0m \u001b[0mold_all_models_set\u001b[0m \u001b[1;33m-\u001b[0m \u001b[0mnew_all_models_set\u001b[0m\u001b[1;33m\u001b[0m\u001b[0m\n",
      "\u001b[0;31mAttributeError\u001b[0m: 'Document' object has no attribute 'references'"
     ]
    }
   ],
   "source": [
    "from bokeh.layouts import row, widgetbox\n",
    "from bokeh.models.widgets import Slider, Select, TextInput\n",
    "from bokeh.io import curdoc\n",
    "from bokeh.models import LogColorMapper, LogTicker, ColorBar\n",
    "\n",
    "color_mapper = LogColorMapper(palette=\"Greys256\",low=1, high=np.max(np.abs(z)))\n",
    "\n",
    "\n",
    "color_select = Select(title=\"Slect Color\", options=[\"Greys256\", \"Inferno256\", \"Magma256\" ,\"Plasma256\", \"Viridis256\"], \n",
    "                      value=\"Greys256\")\n",
    "plot = figure(x_range=(np.min(t), np.max(t)), y_range=(np.min(y), np.max(y)))\n",
    "plot.image(image=[np.abs(z)], color_mapper=color_mapper,\n",
    "           dh=[0.5], dw=[1600], x=[0], y=[0])\n",
    "color_bar = ColorBar(color_mapper=color_mapper, ticker=LogTicker(),\n",
    "                     label_standoff=12, border_line_color=None, location=(0,0))\n",
    "\n",
    "plot.add_layout(color_bar, 'right')\n",
    "def update_plot():\n",
    "    a = color_select.value\n",
    "    color_mapper = LogColorMapper(palette=\"Greys256\",low=1, high=np.max(np.abs(z)))\n",
    "    \n",
    "color_select.on_change('value', lambda attr, old, new: update_plot())\n",
    "\n",
    "\n",
    "inputs = widgetbox(color_select)\n",
    "curdoc().add_root(row(inputs, plot, width=800))\n"
   ]
  },
  {
   "cell_type": "code",
   "execution_count": null,
   "metadata": {
    "collapsed": true
   },
   "outputs": [],
   "source": []
  }
 ],
 "metadata": {
  "kernelspec": {
   "display_name": "Python 3",
   "language": "python",
   "name": "python3"
  },
  "language_info": {
   "codemirror_mode": {
    "name": "ipython",
    "version": 3
   },
   "file_extension": ".py",
   "mimetype": "text/x-python",
   "name": "python",
   "nbconvert_exporter": "python",
   "pygments_lexer": "ipython3",
   "version": "3.6.0"
  }
 },
 "nbformat": 4,
 "nbformat_minor": 2
}
